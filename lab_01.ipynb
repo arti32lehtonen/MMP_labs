{
 "cells": [
  {
   "cell_type": "markdown",
   "metadata": {},
   "source": [
    "# Лабораторная работа 1. Язык Python, основные библиотеки для анализа данных.\n"
   ]
  },
  {
   "cell_type": "markdown",
   "metadata": {
    "collapsed": true
   },
   "source": [
    "## ФИО: Попов Артём Сергеевич"
   ]
  },
  {
   "cell_type": "markdown",
   "metadata": {},
   "source": [
    "## Группа: 317"
   ]
  },
  {
   "cell_type": "markdown",
   "metadata": {},
   "source": [
    "## Часть 1. Pyhton"
   ]
  },
  {
   "cell_type": "markdown",
   "metadata": {},
   "source": [
    "### 1. Напишите код, который сформирует список всех натуральных чисел, не превосходящих 100, которые делятся на 7 и не делятся на 5. Нельзя использовать циклы — выполните это задание с помощью list comprehension."
   ]
  },
  {
   "cell_type": "code",
   "execution_count": 1,
   "metadata": {
    "collapsed": false
   },
   "outputs": [
    {
     "name": "stdout",
     "output_type": "stream",
     "text": [
      "[7, 14, 21, 28, 42, 49, 56, 63, 77, 84, 91, 98]\n"
     ]
    }
   ],
   "source": [
    "numbers = []\n",
    "numbers = [x for x in range(1, 100) if x % 7 == 0 and x % 5 != 0]\n",
    "print(numbers)"
   ]
  },
  {
   "cell_type": "markdown",
   "metadata": {},
   "source": [
    "### 2. Напишите функцию sort_tokens(s), которая принимает на вход строку, разделяет ее на токены по запятым, сортирует токены с помощью функции sorted() и снова соединяет их в одну строку через запятые. Например, для строки u\"ночь,фонарь,улица\" функция должна выдать u\"ночь,улица,фонарь\". Придумайте несколько входных строк и протестируйте функцию на них."
   ]
  },
  {
   "cell_type": "code",
   "execution_count": 2,
   "metadata": {
    "collapsed": false
   },
   "outputs": [],
   "source": [
    "def sort_tokens(s):\n",
    "    words = s.split(',')\n",
    "    words = list(map(lambda s: s.strip(), words)) # удаляем лишние пробельные символы\n",
    "    words.sort()\n",
    "    s = ','.join(words)\n",
    "    return s"
   ]
  },
  {
   "cell_type": "markdown",
   "metadata": {
    "collapsed": true
   },
   "source": [
    "#### Проверка функции"
   ]
  },
  {
   "cell_type": "code",
   "execution_count": 3,
   "metadata": {
    "collapsed": false
   },
   "outputs": [
    {
     "data": {
      "text/plain": [
       "'ани,асвк,ая,вм,втм,иб,ио,ммп,мс,ндс,ом,оу,са,ски,сп,фап'"
      ]
     },
     "execution_count": 3,
     "metadata": {},
     "output_type": "execute_result"
    }
   ],
   "source": [
    "sort_tokens('aaa, bbb, ccc') # идеальный случай\n",
    "sort_tokens('alexey, alexandr, polina, dima, artem, sonya, nadya')\n",
    "sort_tokens('ммп, мс, ая, сп, втм, са, ани, ом, фап, вм, асвк, ски, ндс, оу, иб, ио')"
   ]
  },
  {
   "cell_type": "markdown",
   "metadata": {},
   "source": [
    "### 3. Напишите функцию remove_duplicates(a), которая принимает на вход список и возвращает его же, но без дубликатов и в отсортированном виде. Например, для списка [u\"ночь\", u\"улица\", u\"фонарь\", u\"аптека\", u\"аптека\", u\"улица\", u\"фонарь\"] результат должен быть [u\"аптека\", u\"ночь\", u\"улица\", u\"фонарь\", ]."
   ]
  },
  {
   "cell_type": "code",
   "execution_count": 4,
   "metadata": {
    "collapsed": false
   },
   "outputs": [],
   "source": [
    "def remove_duplicates(words):\n",
    "    set_of_words = set(words)\n",
    "    words = list(set_of_words)\n",
    "    words.sort()\n",
    "    return words"
   ]
  },
  {
   "cell_type": "markdown",
   "metadata": {},
   "source": [
    "#### Проверка"
   ]
  },
  {
   "cell_type": "code",
   "execution_count": 5,
   "metadata": {
    "collapsed": false
   },
   "outputs": [
    {
     "data": {
      "text/plain": [
       "['a', 'b', 'c', 'g', 'j', 'u', 'z']"
      ]
     },
     "execution_count": 5,
     "metadata": {},
     "output_type": "execute_result"
    }
   ],
   "source": [
    "remove_duplicates(['u', 'u', 'a', 'c', 'a', 'a', 'b', 'c', 'b', 'z', 'g', 'z', 'j'])"
   ]
  },
  {
   "cell_type": "markdown",
   "metadata": {},
   "source": [
    "### 4. Напишите функцию word_counts(texts), которая принимает на вход список строк, и печатает пары (слово, число вхождений). Считайте, что слова в текстах могут быть разделены только пробелами. Например, для входа [u'ночь улица фонарь аптека', u'аптека улица фонарь'] должно быть напечатано аптека 2 улица 2 фонарь 2 ночь 1\n"
   ]
  },
  {
   "cell_type": "code",
   "execution_count": 6,
   "metadata": {
    "collapsed": false
   },
   "outputs": [],
   "source": [
    "import functools # для использования reduce\n",
    "import collections # для defaultdict\n",
    "\n",
    "def word_counts(texts):\n",
    "    texts = list(map(lambda s: s.split(' '), texts))\n",
    "    texts = functools.reduce(lambda l1, l2: l1 + l2, texts)\n",
    "    dic = collections.defaultdict(int)\n",
    "    for item in texts:\n",
    "        dic[item] += 1\n",
    "    for item in dic:\n",
    "        print (item, dic[item])\n",
    "    return None"
   ]
  },
  {
   "cell_type": "markdown",
   "metadata": {},
   "source": [
    "#### Проверка"
   ]
  },
  {
   "cell_type": "code",
   "execution_count": 7,
   "metadata": {
    "collapsed": false
   },
   "outputs": [
    {
     "name": "stdout",
     "output_type": "stream",
     "text": [
      "a 11\n",
      "cc 2\n",
      "c 5\n",
      "aaa 2\n",
      "aa 2\n",
      "bb 1\n",
      "b 5\n",
      "bbb 1\n"
     ]
    }
   ],
   "source": [
    "word_counts(['a a a b b c c', 'a aa aaa a bb b b cc c', 'a c cc c a b a bbb a aa aaa a a'])"
   ]
  },
  {
   "cell_type": "markdown",
   "metadata": {},
   "source": [
    "## 5. (бонусное задание) Скачайте английский перевод \"Преступления и наказания\". Найдите 20 самых популярных слов и 20 слов, которые встречаются только один раз. \n",
    "\n",
    "### Приведите текст к нижнему регистру. Разделите текст на слова, считая разделителями все, кроме букв. Обратите внимание на функцию split из модуля re.\n"
   ]
  },
  {
   "cell_type": "code",
   "execution_count": 8,
   "metadata": {
    "collapsed": false
   },
   "outputs": [],
   "source": [
    "import urllib.request\n",
    "url = \"http://www.gutenberg.org/files/2554/2554.txt\"\n",
    "response = urllib.request.urlopen(url)\n",
    "raw_text = response.read().decode('utf8')"
   ]
  },
  {
   "cell_type": "code",
   "execution_count": 9,
   "metadata": {
    "collapsed": false
   },
   "outputs": [
    {
     "name": "stdout",
     "output_type": "stream",
     "text": [
      "Слова, встречающиеся один раз\n",
      "clambered\n",
      "gather\n",
      "cottage\n",
      "lamplight\n",
      "hugging\n",
      "bedecked\n",
      "mock\n",
      "butcher\n",
      "gulf\n",
      "executing\n",
      "omitting\n",
      "perturbation\n",
      "slut\n",
      "heaped\n",
      "affable\n",
      "determining\n",
      "inscribed\n",
      "reinstating\n",
      "majority\n",
      "conditions\n",
      "\n",
      "Самые частые слова\n",
      "the\n",
      "and\n",
      "to\n",
      "he\n",
      "a\n",
      "i\n",
      "you\n",
      "of\n",
      "it\n",
      "that\n",
      "in\n",
      "was\n",
      "his\n",
      "at\n",
      "her\n",
      "but\n",
      "not\n",
      "s\n",
      "with\n",
      "she\n"
     ]
    }
   ],
   "source": [
    "def word_counts_2(texts):\n",
    "    dic = collections.defaultdict(int)\n",
    "    for item in texts:\n",
    "        dic[item] += 1\n",
    "    return dic\n",
    "\n",
    "raw_text = raw_text.lower() # приводим символы к нижнему регистру\n",
    "set_of_char = set(raw_text)\n",
    "set_of_char = set(filter(lambda c: not c.isalpha(), set_of_char)) # заведём множество состоящее не из букв\n",
    "\n",
    "for symb in set_of_char:\n",
    "    raw_text = raw_text.replace(symb, ',') # заменяем все <<не буквы>> на запятые\n",
    "words = raw_text.split(',') # делаем список слов\n",
    "words = list(filter(lambda s: len(s) > 0, words))\n",
    "\n",
    "dic = word_counts_2(words) # делаем словарь - слово - сколько раз оно встречается\n",
    "words = list(dic.items())\n",
    "words = sorted(words, key = lambda word: word[1]) \n",
    "\n",
    "print('Слова, встречающиеся один раз') \n",
    "for i in range(0, 20):\n",
    "    print(words[i][0])\n",
    "    \n",
    "print('\\nСамые частые слова')\n",
    "for i in (range(-1,-21, -1)):\n",
    "    print(words[i][0])"
   ]
  },
  {
   "cell_type": "markdown",
   "metadata": {},
   "source": [
    "## Часть 2: NumPy и SciPy¶"
   ]
  },
  {
   "cell_type": "code",
   "execution_count": 10,
   "metadata": {
    "collapsed": true
   },
   "outputs": [],
   "source": [
    "import numpy as np"
   ]
  },
  {
   "cell_type": "markdown",
   "metadata": {},
   "source": [
    "### 1. Повторите 1000 раз следующий эксперимент: сгенерируйте две матрицы размера 10×10 из стандартного нормального распределения, перемножьте их (как матрицы) и найдите максимальный элемент. Какое среднее значение по экспериментам у максимальных элементов? 95-процентная квантиль?\n"
   ]
  },
  {
   "cell_type": "code",
   "execution_count": 11,
   "metadata": {
    "collapsed": false
   },
   "outputs": [
    {
     "name": "stdout",
     "output_type": "stream",
     "text": [
      "8.36121372886\n",
      "11.9882786007\n"
     ]
    }
   ],
   "source": [
    "mu = 0\n",
    "sigma = 1\n",
    "maxi = np.zeros((1000))\n",
    "for i in range(0, 1000):\n",
    "    matr1 = np.random.normal(mu, sigma, size = (10, 10))\n",
    "    matr2 = np.random.normal(mu, sigma, size = (10, 10))\n",
    "    matr3 = np.dot(matr1, matr2)\n",
    "    maxi[i] = matr3.max()\n",
    "\n",
    "print(np.mean(maxi))\n",
    "print(np.percentile(maxi, 95))"
   ]
  },
  {
   "cell_type": "markdown",
   "metadata": {},
   "source": [
    "### 2. Сгенерируйте 1000 чисел из распределения Пуассона с параметром λ=5. Сформируйте массив, в котором в i-м элементе будет записано количество сгенерированных чисел, равных i."
   ]
  },
  {
   "cell_type": "code",
   "execution_count": 12,
   "metadata": {
    "collapsed": false
   },
   "outputs": [
    {
     "name": "stdout",
     "output_type": "stream",
     "text": [
      "[  7  24  81 121 185 183 155 109  57  49  15   7   5   1   0   1]\n"
     ]
    }
   ],
   "source": [
    "matr1 = np.random.poisson(lam = 5, size = (1000))\n",
    "matr2 = np.bincount(matr1)\n",
    "print(matr2)"
   ]
  },
  {
   "cell_type": "markdown",
   "metadata": {},
   "source": [
    "### 3. Реализуйте функцию, которая принимает на вход numpy-массив целых чисел a, и генерирует массив, в котором число i встречается a[i] раз. Протестируйте на результате из прошлого задания.¶\n"
   ]
  },
  {
   "cell_type": "code",
   "execution_count": 13,
   "metadata": {
    "collapsed": false
   },
   "outputs": [
    {
     "name": "stdout",
     "output_type": "stream",
     "text": [
      "[  1.   1.   1.   1.   1.   1.   1.   2.   2.   2.   2.   2.   2.   2.   2.\n",
      "   2.   2.   2.   2.   2.   2.   2.   2.   2.   2.   2.   2.   2.   2.   2.\n",
      "   2.   3.   3.   3.   3.   3.   3.   3.   3.   3.   3.   3.   3.   3.   3.\n",
      "   3.   3.   3.   3.   3.   3.   3.   3.   3.   3.   3.   3.   3.   3.   3.\n",
      "   3.   3.   3.   3.   3.   3.   3.   3.   3.   3.   3.   3.   3.   3.   3.\n",
      "   3.   3.   3.   3.   3.   3.   3.   3.   3.   3.   3.   3.   3.   3.   3.\n",
      "   3.   3.   3.   3.   3.   3.   3.   3.   3.   3.   3.   3.   3.   3.   3.\n",
      "   3.   3.   3.   3.   3.   3.   3.   4.   4.   4.   4.   4.   4.   4.   4.\n",
      "   4.   4.   4.   4.   4.   4.   4.   4.   4.   4.   4.   4.   4.   4.   4.\n",
      "   4.   4.   4.   4.   4.   4.   4.   4.   4.   4.   4.   4.   4.   4.   4.\n",
      "   4.   4.   4.   4.   4.   4.   4.   4.   4.   4.   4.   4.   4.   4.   4.\n",
      "   4.   4.   4.   4.   4.   4.   4.   4.   4.   4.   4.   4.   4.   4.   4.\n",
      "   4.   4.   4.   4.   4.   4.   4.   4.   4.   4.   4.   4.   4.   4.   4.\n",
      "   4.   4.   4.   4.   4.   4.   4.   4.   4.   4.   4.   4.   4.   4.   4.\n",
      "   4.   4.   4.   4.   4.   4.   4.   4.   4.   4.   4.   4.   4.   4.   4.\n",
      "   4.   4.   4.   4.   4.   4.   4.   4.   5.   5.   5.   5.   5.   5.   5.\n",
      "   5.   5.   5.   5.   5.   5.   5.   5.   5.   5.   5.   5.   5.   5.   5.\n",
      "   5.   5.   5.   5.   5.   5.   5.   5.   5.   5.   5.   5.   5.   5.   5.\n",
      "   5.   5.   5.   5.   5.   5.   5.   5.   5.   5.   5.   5.   5.   5.   5.\n",
      "   5.   5.   5.   5.   5.   5.   5.   5.   5.   5.   5.   5.   5.   5.   5.\n",
      "   5.   5.   5.   5.   5.   5.   5.   5.   5.   5.   5.   5.   5.   5.   5.\n",
      "   5.   5.   5.   5.   5.   5.   5.   5.   5.   5.   5.   5.   5.   5.   5.\n",
      "   5.   5.   5.   5.   5.   5.   5.   5.   5.   5.   5.   5.   5.   5.   5.\n",
      "   5.   5.   5.   5.   5.   5.   5.   5.   5.   5.   5.   5.   5.   5.   5.\n",
      "   5.   5.   5.   5.   5.   5.   5.   5.   5.   5.   5.   5.   5.   5.   5.\n",
      "   5.   5.   5.   5.   5.   5.   5.   5.   5.   5.   5.   5.   5.   5.   5.\n",
      "   5.   5.   5.   5.   5.   5.   5.   5.   5.   5.   5.   5.   5.   5.   5.\n",
      "   5.   5.   5.   5.   5.   5.   5.   5.   5.   5.   5.   5.   5.   6.   6.\n",
      "   6.   6.   6.   6.   6.   6.   6.   6.   6.   6.   6.   6.   6.   6.   6.\n",
      "   6.   6.   6.   6.   6.   6.   6.   6.   6.   6.   6.   6.   6.   6.   6.\n",
      "   6.   6.   6.   6.   6.   6.   6.   6.   6.   6.   6.   6.   6.   6.   6.\n",
      "   6.   6.   6.   6.   6.   6.   6.   6.   6.   6.   6.   6.   6.   6.   6.\n",
      "   6.   6.   6.   6.   6.   6.   6.   6.   6.   6.   6.   6.   6.   6.   6.\n",
      "   6.   6.   6.   6.   6.   6.   6.   6.   6.   6.   6.   6.   6.   6.   6.\n",
      "   6.   6.   6.   6.   6.   6.   6.   6.   6.   6.   6.   6.   6.   6.   6.\n",
      "   6.   6.   6.   6.   6.   6.   6.   6.   6.   6.   6.   6.   6.   6.   6.\n",
      "   6.   6.   6.   6.   6.   6.   6.   6.   6.   6.   6.   6.   6.   6.   6.\n",
      "   6.   6.   6.   6.   6.   6.   6.   6.   6.   6.   6.   6.   6.   6.   6.\n",
      "   6.   6.   6.   6.   6.   6.   6.   6.   6.   6.   6.   6.   6.   6.   6.\n",
      "   6.   6.   6.   6.   6.   6.   6.   6.   6.   6.   6.   6.   6.   6.   6.\n",
      "   6.   7.   7.   7.   7.   7.   7.   7.   7.   7.   7.   7.   7.   7.   7.\n",
      "   7.   7.   7.   7.   7.   7.   7.   7.   7.   7.   7.   7.   7.   7.   7.\n",
      "   7.   7.   7.   7.   7.   7.   7.   7.   7.   7.   7.   7.   7.   7.   7.\n",
      "   7.   7.   7.   7.   7.   7.   7.   7.   7.   7.   7.   7.   7.   7.   7.\n",
      "   7.   7.   7.   7.   7.   7.   7.   7.   7.   7.   7.   7.   7.   7.   7.\n",
      "   7.   7.   7.   7.   7.   7.   7.   7.   7.   7.   7.   7.   7.   7.   7.\n",
      "   7.   7.   7.   7.   7.   7.   7.   7.   7.   7.   7.   7.   7.   7.   7.\n",
      "   7.   7.   7.   7.   7.   7.   7.   7.   7.   7.   7.   7.   7.   7.   7.\n",
      "   7.   7.   7.   7.   7.   7.   7.   7.   7.   7.   7.   7.   7.   7.   7.\n",
      "   7.   7.   7.   7.   7.   7.   7.   7.   7.   7.   7.   7.   7.   7.   7.\n",
      "   7.   7.   7.   7.   7.   7.   8.   8.   8.   8.   8.   8.   8.   8.   8.\n",
      "   8.   8.   8.   8.   8.   8.   8.   8.   8.   8.   8.   8.   8.   8.   8.\n",
      "   8.   8.   8.   8.   8.   8.   8.   8.   8.   8.   8.   8.   8.   8.   8.\n",
      "   8.   8.   8.   8.   8.   8.   8.   8.   8.   8.   8.   8.   8.   8.   8.\n",
      "   8.   8.   8.   8.   8.   8.   8.   8.   8.   8.   8.   8.   8.   8.   8.\n",
      "   8.   8.   8.   8.   8.   8.   8.   8.   8.   8.   8.   8.   8.   8.   8.\n",
      "   8.   8.   8.   8.   8.   8.   8.   8.   8.   8.   8.   8.   8.   8.   8.\n",
      "   8.   8.   8.   8.   8.   8.   8.   8.   8.   8.   9.   9.   9.   9.   9.\n",
      "   9.   9.   9.   9.   9.   9.   9.   9.   9.   9.   9.   9.   9.   9.   9.\n",
      "   9.   9.   9.   9.   9.   9.   9.   9.   9.   9.   9.   9.   9.   9.   9.\n",
      "   9.   9.   9.   9.   9.   9.   9.   9.   9.   9.   9.   9.   9.   9.   9.\n",
      "   9.   9.   9.   9.   9.   9.   9.  10.  10.  10.  10.  10.  10.  10.  10.\n",
      "  10.  10.  10.  10.  10.  10.  10.  10.  10.  10.  10.  10.  10.  10.  10.\n",
      "  10.  10.  10.  10.  10.  10.  10.  10.  10.  10.  10.  10.  10.  10.  10.\n",
      "  10.  10.  10.  10.  10.  10.  10.  10.  10.  10.  10.  11.  11.  11.  11.\n",
      "  11.  11.  11.  11.  11.  11.  11.  11.  11.  11.  11.  12.  12.  12.  12.\n",
      "  12.  12.  12.  13.  13.  13.  13.  13.  14.  16.]\n"
     ]
    }
   ],
   "source": [
    "def gen_mas (npmas):\n",
    "    matr = np.array([])\n",
    "    i = 0\n",
    "    for item in npmas:\n",
    "        i += 1\n",
    "        matr = np.hstack((matr, np.full(shape = (item), fill_value = i)))\n",
    "    return matr\n",
    "print(gen_mas(matr2))"
   ]
  },
  {
   "cell_type": "markdown",
   "metadata": {},
   "source": [
    "### 4. Напишите функцию scale(X), которая принимает на вход матрицу и масштабирует каждый ее столбец (вычитает среднее и делит на стандартное отклонение). Убедитесь, что в функции не будет происходить деления на ноль. Протестируйте на каких-нибудь данных.¶"
   ]
  },
  {
   "cell_type": "code",
   "execution_count": 14,
   "metadata": {
    "collapsed": false
   },
   "outputs": [
    {
     "data": {
      "text/plain": [
       "array([[  6.00198885e-01,   5.92699438e-01,   9.63283355e-01,\n",
       "         -1.65334000e+00,  -1.42914704e+00,   6.51328724e-04,\n",
       "         -7.67767372e-01,  -7.62486553e-01,  -1.26337189e+00,\n",
       "         -1.37299861e+00],\n",
       "       [  1.53423429e+00,  -1.35246767e+00,   1.08501899e+00,\n",
       "         -1.22169412e+00,  -8.90899893e-01,  -9.88283695e-01,\n",
       "         -3.91318973e-01,   1.71798126e+00,  -3.59528124e-01,\n",
       "          1.24549585e+00],\n",
       "       [  4.21707772e-02,   1.78921704e+00,  -9.67999187e-01,\n",
       "          1.89574392e+00,   2.46149782e-01,  -9.65971867e-01,\n",
       "          8.01402332e-01,   7.72913904e-01,   4.75336388e-01,\n",
       "          1.60039470e+00],\n",
       "       [ -1.21707888e+00,   4.99848216e-01,   1.03797241e+00,\n",
       "         -6.55104961e-01,   2.14223788e-01,  -3.65637090e-01,\n",
       "          1.36606249e+00,   5.84751553e-01,   7.04264671e-01,\n",
       "         -2.98995721e-02],\n",
       "       [  1.59773146e+00,  -6.07111897e-01,   1.28776175e+00,\n",
       "         -3.18002396e-01,  -8.57439739e-01,  -1.00019060e+00,\n",
       "         -4.60358453e-01,  -1.19016092e+00,   1.24935058e+00,\n",
       "          1.02295778e+00],\n",
       "       [ -4.57394804e-01,   9.07114072e-01,  -1.24521142e+00,\n",
       "          8.29721674e-01,  -1.11854166e+00,   1.30738347e+00,\n",
       "         -1.45071881e+00,   7.19631681e-02,   1.10346997e+00,\n",
       "         -1.19257819e+00],\n",
       "       [  2.62431717e-01,   8.18415069e-01,  -1.40520484e+00,\n",
       "         -1.49369122e-01,   5.92339673e-01,   2.05100471e+00,\n",
       "         -3.90919057e-01,   4.91293224e-01,  -1.72978521e+00,\n",
       "          3.70629912e-01],\n",
       "       [ -1.64369160e+00,  -1.07405370e+00,   2.38488402e-01,\n",
       "          8.97618376e-01,   1.22780445e+00,  -2.29535556e-01,\n",
       "          1.28745082e+00,  -1.89114391e+00,  -8.57897012e-01,\n",
       "         -6.76633822e-01],\n",
       "       [ -4.37032767e-01,  -1.02699018e+00,  -2.26940047e-01,\n",
       "          9.40485224e-03,   2.39151190e-01,  -6.00915382e-01,\n",
       "         -1.14193810e+00,  -2.63191445e-01,  -2.99699634e-01,\n",
       "         -9.68282837e-01],\n",
       "       [ -2.81569076e-01,  -5.46670387e-01,  -7.67169404e-01,\n",
       "          3.65021779e-01,   1.77635945e+00,   7.91494681e-01,\n",
       "          1.14810512e+00,   4.68079710e-01,   9.77860266e-01,\n",
       "          9.14773147e-04]])"
      ]
     },
     "execution_count": 14,
     "metadata": {},
     "output_type": "execute_result"
    }
   ],
   "source": [
    "matr1 = np.random.random(size = (10, 10)) * 100 - 50\n",
    "matr1\n",
    "\n",
    "def scale(X):\n",
    "    mu = np.mean(X, axis = 0)\n",
    "    sigma = np.std(X, axis = 0)\n",
    "    sigma[sigma == 0] = 1 # 0 = все элементы равны => обнуление столбцов, где sigma = 0\n",
    "    X = (X - mu) / sigma\n",
    "    return X\n",
    "\n",
    "scale(matr1)"
   ]
  },
  {
   "cell_type": "markdown",
   "metadata": {},
   "source": [
    "### 5. Сгенерируйте матрицу с элементами из нормального распределения N(10,1). Найдите ее:¶"
   ]
  },
  {
   "cell_type": "markdown",
   "metadata": {},
   "source": [
    "### определитель; след; наименьший и наибольший элементы; спектральную норму; норму Фробениуса; собственные числа; обратную матрицу\n"
   ]
  },
  {
   "cell_type": "code",
   "execution_count": 15,
   "metadata": {
    "collapsed": false
   },
   "outputs": [
    {
     "name": "stdout",
     "output_type": "stream",
     "text": [
      "det =  -66177.4942172\n",
      "trace =  99.4771126812\n",
      "min =  7.45344832862\n",
      "max =  12.994796052\n",
      "spectral =  99.5486377385\n",
      "frobenius =  99.9327962735\n",
      "eigenvalues =  [ 99.44189959+0.j           2.31883899+1.99531569j   2.31883899-1.99531569j\n",
      "   0.95799036+2.13489449j   0.95799036-2.13489449j  -2.93138274+0.j\n",
      "  -0.60772858+1.61308555j  -0.60772858-1.61308555j  -1.18580286+0.29138851j\n",
      "  -1.18580286-0.29138851j]\n",
      "inverse matrix =  [[-0.18394466  0.00790626  0.41896342 -0.23510127 -0.67409936  0.10119136\n",
      "   0.14875492 -0.11804458  0.01769288  0.51578535]\n",
      " [-0.21431368  0.05687977  0.23661273 -0.06978206 -0.40809436  0.21524477\n",
      "  -0.23012344 -0.14682552 -0.0467653   0.60402831]\n",
      " [-0.20431069  0.10017914  0.2444279  -0.0739962   0.05213023 -0.28473118\n",
      "  -0.04945708  0.2334854  -0.10780474  0.10856275]\n",
      " [-0.23871329 -0.07641744  0.17080188 -0.14940985 -0.13496352  0.19335245\n",
      "   0.02024826 -0.06118982  0.22679807  0.07320468]\n",
      " [ 0.34131414  0.16628288 -0.59326782  0.34388266  0.13205181 -0.19971387\n",
      "   0.12594083  0.28729741  0.09407744 -0.67657183]\n",
      " [-0.09982688 -0.18519449  0.09832246 -0.14508308  0.20185667  0.19844955\n",
      "   0.09375587  0.04396573 -0.19659217  0.00296691]\n",
      " [ 0.19601413  0.16816487 -0.03715437 -0.23612419 -0.03027487 -0.18915217\n",
      "  -0.10388076  0.18406688 -0.10098407  0.15620954]\n",
      " [ 0.14025096 -0.3603966  -0.2692504   0.2448777   0.32077943  0.118015\n",
      "   0.02615372 -0.30925015  0.0983699  -0.01870918]\n",
      " [-0.20002527 -0.10714504  0.16604549 -0.26308016 -0.08258421  0.20725195\n",
      "   0.15753622 -0.4650391  -0.01500703  0.60208331]\n",
      " [ 0.47677953  0.25206937 -0.39996841  0.60055232  0.64211274 -0.35489904\n",
      "  -0.19514691  0.35693366  0.00673948 -1.35554132]]\n"
     ]
    }
   ],
   "source": [
    "mu = 10\n",
    "sigma = 1\n",
    "\n",
    "matr = np.random.normal(mu, sigma, size = (10, 10))\n",
    "det = np.linalg.det(matr)\n",
    "print('det = ', det)\n",
    "print('trace = ', np.trace(matr))\n",
    "print('min = ', matr.min())\n",
    "print('max = ', matr.max())\n",
    "print('spectral = ', np.linalg.norm(matr, ord = 2))\n",
    "print('frobenius = ', np.linalg.norm(matr, ord = 'fro'))\n",
    "print('eigenvalues = ', np.linalg.eigvals(matr))\n",
    "if det != 0:\n",
    "    print('inverse matrix = ', np.linalg.inv(matr))\n",
    "else:\n",
    "    print('There is no inverse matrix')"
   ]
  },
  {
   "cell_type": "markdown",
   "metadata": {},
   "source": [
    "## Часть 3: Pandas¶"
   ]
  },
  {
   "cell_type": "markdown",
   "metadata": {
    "collapsed": true
   },
   "source": [
    "Ответьте на вопросы о данных по авиарейсам в США за январь-апрель 2008 года.\n",
    "\n",
    "Данные: http://stat-computing.org/dataexpo/2009/2008.csv.bz2 (обратите внимание, что распаковывать этот файл не обязательно — функция pandas.read_csv умеет читать из архивов автоматически)\n",
    "\n",
    "Описание: http://stat-computing.org/dataexpo/2009/the-data.html\n"
   ]
  },
  {
   "cell_type": "markdown",
   "metadata": {},
   "source": [
    "### Чтение данных"
   ]
  },
  {
   "cell_type": "code",
   "execution_count": 16,
   "metadata": {
    "collapsed": false
   },
   "outputs": [],
   "source": [
    "import pandas as pd\n",
    "Location = r'/home/arti32lehtonen/Загрузки/2008.csv.bz2'\n",
    "df = pd.read_csv(Location)"
   ]
  },
  {
   "cell_type": "markdown",
   "metadata": {
    "collapsed": true
   },
   "source": [
    "### Найдите среднее, минимальное и максимальное расстояние, пройденное самолетом."
   ]
  },
  {
   "cell_type": "code",
   "execution_count": 17,
   "metadata": {
    "collapsed": false
   },
   "outputs": [
    {
     "name": "stdout",
     "output_type": "stream",
     "text": [
      "max distance =  4962\n",
      "min distance =  11\n",
      "mean distance =  726.387029425\n"
     ]
    }
   ],
   "source": [
    "print('max distance = ', df['Distance'].max())\n",
    "min_dist = df['Distance'].min()\n",
    "print('min distance = ', min_dist)\n",
    "print('mean distance = ', df['Distance'].mean())"
   ]
  },
  {
   "cell_type": "markdown",
   "metadata": {},
   "source": [
    "### Какая из причин отмены рейса (CancellationCode) была самой частой? (расшифровки кодов можно найти в описании данных)\n"
   ]
  },
  {
   "cell_type": "code",
   "execution_count": 18,
   "metadata": {
    "collapsed": false
   },
   "outputs": [
    {
     "data": {
      "text/plain": [
       "'B'"
      ]
     },
     "execution_count": 18,
     "metadata": {},
     "output_type": "execute_result"
    }
   ],
   "source": [
    "df['CancellationCode'].value_counts().argmax()"
   ]
  },
  {
   "cell_type": "code",
   "execution_count": 19,
   "metadata": {
    "collapsed": false
   },
   "outputs": [
    {
     "name": "stdout",
     "output_type": "stream",
     "text": [
      "The most frequent is B - weather\n"
     ]
    }
   ],
   "source": [
    "print('The most frequent is B - weather')"
   ]
  },
  {
   "cell_type": "markdown",
   "metadata": {},
   "source": [
    "### Не выглядит ли подозрительным минимальное пройденное расстояние? В какие дни и на каких рейсах оно было? Какое расстояние было пройдено этими же рейсами в другие дни?"
   ]
  },
  {
   "cell_type": "code",
   "execution_count": 20,
   "metadata": {
    "collapsed": false
   },
   "outputs": [
    {
     "data": {
      "text/html": [
       "<div>\n",
       "<table border=\"1\" class=\"dataframe\">\n",
       "  <thead>\n",
       "    <tr style=\"text-align: right;\">\n",
       "      <th></th>\n",
       "      <th>Month</th>\n",
       "      <th>DayofMonth</th>\n",
       "      <th>DayOfWeek</th>\n",
       "      <th>FlightNum</th>\n",
       "      <th>UniqueCarrier</th>\n",
       "      <th>TailNum</th>\n",
       "    </tr>\n",
       "  </thead>\n",
       "  <tbody>\n",
       "    <tr>\n",
       "      <th>2547298</th>\n",
       "      <td>5</td>\n",
       "      <td>15</td>\n",
       "      <td>4</td>\n",
       "      <td>4988</td>\n",
       "      <td>OH</td>\n",
       "      <td>N806CA</td>\n",
       "    </tr>\n",
       "    <tr>\n",
       "      <th>4392215</th>\n",
       "      <td>8</td>\n",
       "      <td>10</td>\n",
       "      <td>7</td>\n",
       "      <td>5572</td>\n",
       "      <td>OH</td>\n",
       "      <td>N819CA</td>\n",
       "    </tr>\n",
       "  </tbody>\n",
       "</table>\n",
       "</div>"
      ],
      "text/plain": [
       "         Month  DayofMonth  DayOfWeek  FlightNum UniqueCarrier TailNum\n",
       "2547298      5          15          4       4988            OH  N806CA\n",
       "4392215      8          10          7       5572            OH  N819CA"
      ]
     },
     "execution_count": 20,
     "metadata": {},
     "output_type": "execute_result"
    }
   ],
   "source": [
    "df[df['Distance'] == min_dist][['Month', 'DayofMonth', 'DayOfWeek', 'FlightNum', 'UniqueCarrier', 'TailNum']]"
   ]
  },
  {
   "cell_type": "code",
   "execution_count": 21,
   "metadata": {
    "collapsed": false
   },
   "outputs": [
    {
     "data": {
      "text/plain": [
       "834    130\n",
       "96       1\n",
       "11       1\n",
       "dtype: int64"
      ]
     },
     "execution_count": 21,
     "metadata": {},
     "output_type": "execute_result"
    }
   ],
   "source": [
    "df[ (df['FlightNum'] == 4988) & (df['UniqueCarrier'] == 'OH')]['Distance'].value_counts()"
   ]
  },
  {
   "cell_type": "code",
   "execution_count": 22,
   "metadata": {
    "collapsed": false
   },
   "outputs": [
    {
     "data": {
      "text/plain": [
       "544    243\n",
       "11       1\n",
       "dtype: int64"
      ]
     },
     "execution_count": 22,
     "metadata": {},
     "output_type": "execute_result"
    }
   ],
   "source": [
    "df[ (df['FlightNum'] == 5572) & (df['UniqueCarrier'] == 'OH')]['Distance'].value_counts()"
   ]
  },
  {
   "cell_type": "markdown",
   "metadata": {},
   "source": [
    "### Из какого аэропорта было произведено больше всего вылетов? В каком городе он находится?\n"
   ]
  },
  {
   "cell_type": "code",
   "execution_count": 23,
   "metadata": {
    "collapsed": false
   },
   "outputs": [
    {
     "name": "stdout",
     "output_type": "stream",
     "text": [
      "Airport = ATL\n",
      "City = Atlanta\n"
     ]
    }
   ],
   "source": [
    "df1 = df['Origin'].value_counts().argmax()\n",
    "print('Airport = ATL')\n",
    "print('City = Atlanta')"
   ]
  },
  {
   "cell_type": "markdown",
   "metadata": {
    "collapsed": true
   },
   "source": [
    "### Найдите для каждого аэропорта среднее время полета (AirTime) по всем вылетевшим из него рейсам. Какой аэропорт имеет наибольшее значение этого показателя?\n"
   ]
  },
  {
   "cell_type": "code",
   "execution_count": 24,
   "metadata": {
    "collapsed": false
   },
   "outputs": [
    {
     "data": {
      "text/html": [
       "<div>\n",
       "<table border=\"1\" class=\"dataframe\">\n",
       "  <thead>\n",
       "    <tr style=\"text-align: right;\">\n",
       "      <th></th>\n",
       "      <th>AirTime</th>\n",
       "    </tr>\n",
       "    <tr>\n",
       "      <th>Origin</th>\n",
       "      <th></th>\n",
       "    </tr>\n",
       "  </thead>\n",
       "  <tbody>\n",
       "    <tr>\n",
       "      <th>ABE</th>\n",
       "      <td>89.057518</td>\n",
       "    </tr>\n",
       "    <tr>\n",
       "      <th>ABI</th>\n",
       "      <td>36.789977</td>\n",
       "    </tr>\n",
       "    <tr>\n",
       "      <th>ABQ</th>\n",
       "      <td>91.657166</td>\n",
       "    </tr>\n",
       "    <tr>\n",
       "      <th>ABY</th>\n",
       "      <td>35.379759</td>\n",
       "    </tr>\n",
       "    <tr>\n",
       "      <th>ACK</th>\n",
       "      <td>50.692124</td>\n",
       "    </tr>\n",
       "    <tr>\n",
       "      <th>ACT</th>\n",
       "      <td>29.875977</td>\n",
       "    </tr>\n",
       "    <tr>\n",
       "      <th>ACV</th>\n",
       "      <td>58.850658</td>\n",
       "    </tr>\n",
       "    <tr>\n",
       "      <th>ACY</th>\n",
       "      <td>108.848214</td>\n",
       "    </tr>\n",
       "    <tr>\n",
       "      <th>ADK</th>\n",
       "      <td>151.423913</td>\n",
       "    </tr>\n",
       "    <tr>\n",
       "      <th>ADQ</th>\n",
       "      <td>41.987934</td>\n",
       "    </tr>\n",
       "    <tr>\n",
       "      <th>AEX</th>\n",
       "      <td>68.543556</td>\n",
       "    </tr>\n",
       "    <tr>\n",
       "      <th>AGS</th>\n",
       "      <td>36.933814</td>\n",
       "    </tr>\n",
       "    <tr>\n",
       "      <th>AKN</th>\n",
       "      <td>37.321429</td>\n",
       "    </tr>\n",
       "    <tr>\n",
       "      <th>ALB</th>\n",
       "      <td>101.860527</td>\n",
       "    </tr>\n",
       "    <tr>\n",
       "      <th>ALO</th>\n",
       "      <td>36.373134</td>\n",
       "    </tr>\n",
       "    <tr>\n",
       "      <th>AMA</th>\n",
       "      <td>56.196001</td>\n",
       "    </tr>\n",
       "    <tr>\n",
       "      <th>ANC</th>\n",
       "      <td>156.163749</td>\n",
       "    </tr>\n",
       "    <tr>\n",
       "      <th>ASE</th>\n",
       "      <td>48.307996</td>\n",
       "    </tr>\n",
       "    <tr>\n",
       "      <th>ATL</th>\n",
       "      <td>93.320419</td>\n",
       "    </tr>\n",
       "    <tr>\n",
       "      <th>ATW</th>\n",
       "      <td>50.696326</td>\n",
       "    </tr>\n",
       "    <tr>\n",
       "      <th>AUS</th>\n",
       "      <td>101.266600</td>\n",
       "    </tr>\n",
       "    <tr>\n",
       "      <th>AVL</th>\n",
       "      <td>69.899021</td>\n",
       "    </tr>\n",
       "    <tr>\n",
       "      <th>AVP</th>\n",
       "      <td>94.665204</td>\n",
       "    </tr>\n",
       "    <tr>\n",
       "      <th>AZO</th>\n",
       "      <td>34.846602</td>\n",
       "    </tr>\n",
       "    <tr>\n",
       "      <th>BDL</th>\n",
       "      <td>118.701612</td>\n",
       "    </tr>\n",
       "    <tr>\n",
       "      <th>BET</th>\n",
       "      <td>57.597815</td>\n",
       "    </tr>\n",
       "    <tr>\n",
       "      <th>BFL</th>\n",
       "      <td>64.024511</td>\n",
       "    </tr>\n",
       "    <tr>\n",
       "      <th>BGM</th>\n",
       "      <td>66.582260</td>\n",
       "    </tr>\n",
       "    <tr>\n",
       "      <th>BGR</th>\n",
       "      <td>90.211095</td>\n",
       "    </tr>\n",
       "    <tr>\n",
       "      <th>BHM</th>\n",
       "      <td>82.290713</td>\n",
       "    </tr>\n",
       "    <tr>\n",
       "      <th>...</th>\n",
       "      <td>...</td>\n",
       "    </tr>\n",
       "    <tr>\n",
       "      <th>SPS</th>\n",
       "      <td>29.490040</td>\n",
       "    </tr>\n",
       "    <tr>\n",
       "      <th>SRQ</th>\n",
       "      <td>103.083807</td>\n",
       "    </tr>\n",
       "    <tr>\n",
       "      <th>STL</th>\n",
       "      <td>99.294409</td>\n",
       "    </tr>\n",
       "    <tr>\n",
       "      <th>STT</th>\n",
       "      <td>168.681929</td>\n",
       "    </tr>\n",
       "    <tr>\n",
       "      <th>STX</th>\n",
       "      <td>168.101176</td>\n",
       "    </tr>\n",
       "    <tr>\n",
       "      <th>SUN</th>\n",
       "      <td>48.221851</td>\n",
       "    </tr>\n",
       "    <tr>\n",
       "      <th>SUX</th>\n",
       "      <td>44.918919</td>\n",
       "    </tr>\n",
       "    <tr>\n",
       "      <th>SWF</th>\n",
       "      <td>132.768826</td>\n",
       "    </tr>\n",
       "    <tr>\n",
       "      <th>SYR</th>\n",
       "      <td>84.524087</td>\n",
       "    </tr>\n",
       "    <tr>\n",
       "      <th>TEX</th>\n",
       "      <td>93.124183</td>\n",
       "    </tr>\n",
       "    <tr>\n",
       "      <th>TLH</th>\n",
       "      <td>59.293080</td>\n",
       "    </tr>\n",
       "    <tr>\n",
       "      <th>TOL</th>\n",
       "      <td>48.295047</td>\n",
       "    </tr>\n",
       "    <tr>\n",
       "      <th>TPA</th>\n",
       "      <td>117.917963</td>\n",
       "    </tr>\n",
       "    <tr>\n",
       "      <th>TRI</th>\n",
       "      <td>47.871046</td>\n",
       "    </tr>\n",
       "    <tr>\n",
       "      <th>TUL</th>\n",
       "      <td>80.876802</td>\n",
       "    </tr>\n",
       "    <tr>\n",
       "      <th>TUP</th>\n",
       "      <td>42.900000</td>\n",
       "    </tr>\n",
       "    <tr>\n",
       "      <th>TUS</th>\n",
       "      <td>92.801864</td>\n",
       "    </tr>\n",
       "    <tr>\n",
       "      <th>TVC</th>\n",
       "      <td>49.328770</td>\n",
       "    </tr>\n",
       "    <tr>\n",
       "      <th>TWF</th>\n",
       "      <td>41.316563</td>\n",
       "    </tr>\n",
       "    <tr>\n",
       "      <th>TXK</th>\n",
       "      <td>43.796312</td>\n",
       "    </tr>\n",
       "    <tr>\n",
       "      <th>TYR</th>\n",
       "      <td>30.372715</td>\n",
       "    </tr>\n",
       "    <tr>\n",
       "      <th>TYS</th>\n",
       "      <td>81.030894</td>\n",
       "    </tr>\n",
       "    <tr>\n",
       "      <th>VLD</th>\n",
       "      <td>45.158351</td>\n",
       "    </tr>\n",
       "    <tr>\n",
       "      <th>VPS</th>\n",
       "      <td>75.231116</td>\n",
       "    </tr>\n",
       "    <tr>\n",
       "      <th>WRG</th>\n",
       "      <td>16.741606</td>\n",
       "    </tr>\n",
       "    <tr>\n",
       "      <th>WYS</th>\n",
       "      <td>62.961977</td>\n",
       "    </tr>\n",
       "    <tr>\n",
       "      <th>XNA</th>\n",
       "      <td>84.253180</td>\n",
       "    </tr>\n",
       "    <tr>\n",
       "      <th>YAK</th>\n",
       "      <td>36.372159</td>\n",
       "    </tr>\n",
       "    <tr>\n",
       "      <th>YKM</th>\n",
       "      <td>80.697329</td>\n",
       "    </tr>\n",
       "    <tr>\n",
       "      <th>YUM</th>\n",
       "      <td>48.876952</td>\n",
       "    </tr>\n",
       "  </tbody>\n",
       "</table>\n",
       "<p>303 rows × 1 columns</p>\n",
       "</div>"
      ],
      "text/plain": [
       "           AirTime\n",
       "Origin            \n",
       "ABE      89.057518\n",
       "ABI      36.789977\n",
       "ABQ      91.657166\n",
       "ABY      35.379759\n",
       "ACK      50.692124\n",
       "ACT      29.875977\n",
       "ACV      58.850658\n",
       "ACY     108.848214\n",
       "ADK     151.423913\n",
       "ADQ      41.987934\n",
       "AEX      68.543556\n",
       "AGS      36.933814\n",
       "AKN      37.321429\n",
       "ALB     101.860527\n",
       "ALO      36.373134\n",
       "AMA      56.196001\n",
       "ANC     156.163749\n",
       "ASE      48.307996\n",
       "ATL      93.320419\n",
       "ATW      50.696326\n",
       "AUS     101.266600\n",
       "AVL      69.899021\n",
       "AVP      94.665204\n",
       "AZO      34.846602\n",
       "BDL     118.701612\n",
       "BET      57.597815\n",
       "BFL      64.024511\n",
       "BGM      66.582260\n",
       "BGR      90.211095\n",
       "BHM      82.290713\n",
       "...            ...\n",
       "SPS      29.490040\n",
       "SRQ     103.083807\n",
       "STL      99.294409\n",
       "STT     168.681929\n",
       "STX     168.101176\n",
       "SUN      48.221851\n",
       "SUX      44.918919\n",
       "SWF     132.768826\n",
       "SYR      84.524087\n",
       "TEX      93.124183\n",
       "TLH      59.293080\n",
       "TOL      48.295047\n",
       "TPA     117.917963\n",
       "TRI      47.871046\n",
       "TUL      80.876802\n",
       "TUP      42.900000\n",
       "TUS      92.801864\n",
       "TVC      49.328770\n",
       "TWF      41.316563\n",
       "TXK      43.796312\n",
       "TYR      30.372715\n",
       "TYS      81.030894\n",
       "VLD      45.158351\n",
       "VPS      75.231116\n",
       "WRG      16.741606\n",
       "WYS      62.961977\n",
       "XNA      84.253180\n",
       "YAK      36.372159\n",
       "YKM      80.697329\n",
       "YUM      48.876952\n",
       "\n",
       "[303 rows x 1 columns]"
      ]
     },
     "execution_count": 24,
     "metadata": {},
     "output_type": "execute_result"
    }
   ],
   "source": [
    "df1 = df[['Origin', 'AirTime']]\n",
    "groups = df1.groupby(df1['Origin'])\n",
    "mean_air_time = groups.mean()\n",
    "mean_air_time # не вывожу все аэропорты, но найдены все значения"
   ]
  },
  {
   "cell_type": "code",
   "execution_count": 25,
   "metadata": {
    "collapsed": false
   },
   "outputs": [
    {
     "name": "stdout",
     "output_type": "stream",
     "text": [
      "Airport == Storm Lake Municipal\n"
     ]
    }
   ],
   "source": [
    "mean_air_time['AirTime'].argmax()\n",
    "print('Airport == Storm Lake Municipal')"
   ]
  },
  {
   "cell_type": "markdown",
   "metadata": {
    "collapsed": true
   },
   "source": [
    "### Найдите аэропорт, у которого наибольшая доля задержанных (DepDelay > 0) рейсов. Исключите при этом из рассмотрения аэропорты, из которых было отправлено меньше 1000 рейсов (используйте функцию filter после groupby).\n"
   ]
  },
  {
   "cell_type": "code",
   "execution_count": 26,
   "metadata": {
    "collapsed": false
   },
   "outputs": [
    {
     "name": "stdout",
     "output_type": "stream",
     "text": [
      "DAL\n",
      "Airport == Gregory Municipal\n"
     ]
    }
   ],
   "source": [
    "df1 = df[['Origin', 'DepDelay']]\n",
    "groups = df1.groupby(['Origin']) # группируем по аэропортам\n",
    "df1 = groups.filter(lambda x: len(x) >= 1000) # исключаем группы с числом элементов меньше 1000\n",
    "groups = df1.groupby('Origin') # снова группируем по аэропортам\n",
    "numb_all = groups.count() # число всех рейсов для каждого аэропорта\n",
    "numb_dep_delay = df1[df1['DepDelay'] > 0].groupby('Origin').count() # число задержанных рейсов\n",
    "ratio = numb_dep_delay / numb_all\n",
    "print(ratio['DepDelay'].argmax())\n",
    "print('Airport == Gregory Municipal')"
   ]
  }
 ],
 "metadata": {
  "kernelspec": {
   "display_name": "Python 3",
   "language": "python",
   "name": "python3"
  },
  "language_info": {
   "codemirror_mode": {
    "name": "ipython",
    "version": 3
   },
   "file_extension": ".py",
   "mimetype": "text/x-python",
   "name": "python",
   "nbconvert_exporter": "python",
   "pygments_lexer": "ipython3",
   "version": "3.4.0"
  }
 },
 "nbformat": 4,
 "nbformat_minor": 0
}
